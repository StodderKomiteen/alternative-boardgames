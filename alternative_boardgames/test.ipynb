{
 "cells": [
  {
   "cell_type": "code",
   "execution_count": 13,
   "metadata": {},
   "outputs": [
    {
     "data": {
      "text/plain": [
       "73"
      ]
     },
     "execution_count": 13,
     "metadata": {},
     "output_type": "execute_result"
    }
   ],
   "source": [
    "cell_order = []\n",
    "cell_order.extend([(i, 0) for i in range(8, -1, -1)]) # (8,0) -> (0,0)\n",
    "cell_order.extend([(0, i) for i in range(1, 9)]) # (0,1) -> (0,8)\n",
    "cell_order.extend([(i, 8) for i in range(1, 9)]) # (1,8) -> (8,8)\n",
    "cell_order.extend([(8, i) for i in range(7, 0, -1)]) # (8,7) -> (8,1)\n",
    "cell_order.extend([(i, 1) for i in range(7, 0, -1)]) # (7,1) -> (1,1)\n",
    "cell_order.extend([(1, i) for i in range(2, 8)]) # (1,2) -> (1,7)\n",
    "cell_order.extend([(i, 7) for i in range(2, 8)]) # (2,7) -> (7,7)\n",
    "cell_order.extend([(7, i) for i in range(6, 1, -1)]) # (7,6) -> (7,2)\n",
    "cell_order.extend([(i, 2) for i in range(6, 1, -1)]) # (6,2) -> (2,2)\n",
    "cell_order.extend([(2, i) for i in range(3, 7)]) # (2,3) -> (2,6)\n",
    "cell_order.extend([(i, 6) for i in range(3, 7)]) # (3,6) -> (6,6)\n",
    "cell_order.extend([(6, i) for i in range(5, 2, -1)]) # (6,5) -> (6,3)\n",
    "cell_order.extend([(4,4)])\n",
    "\n",
    "len(cell_order)"
   ]
  }
 ],
 "metadata": {
  "kernelspec": {
   "display_name": "base",
   "language": "python",
   "name": "python3"
  },
  "language_info": {
   "codemirror_mode": {
    "name": "ipython",
    "version": 3
   },
   "file_extension": ".py",
   "mimetype": "text/x-python",
   "name": "python",
   "nbconvert_exporter": "python",
   "pygments_lexer": "ipython3",
   "version": "3.8.5"
  },
  "orig_nbformat": 4
 },
 "nbformat": 4,
 "nbformat_minor": 2
}
